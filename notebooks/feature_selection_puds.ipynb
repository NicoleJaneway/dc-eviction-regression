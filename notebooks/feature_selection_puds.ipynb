{
 "cells": [
  {
   "cell_type": "code",
   "execution_count": 36,
   "metadata": {},
   "outputs": [],
   "source": [
    "from shapely.geometry import Point, Polygon\n",
    "import geopandas as gpd\n",
    "import pandas as pd\n",
    "import numpy as np\n",
    "import matplotlib.pyplot as plt\n",
    "import seaborn as sns\n",
    "import statsmodels.api as sm\n",
    "from sklearn.preprocessing import OneHotEncoder\n",
    "\n",
    "pd.set_option('display.max_colwidth', -1)\n",
    "pd.set_option('display.max_columns', None)\n",
    "\n",
    "%run ../python_files/feature_selection"
   ]
  },
  {
   "cell_type": "code",
   "execution_count": 37,
   "metadata": {},
   "outputs": [],
   "source": [
    "# import data\n",
    "puds = pd.read_csv('../data/final_datasets/master_puds_tracts2.csv')"
   ]
  },
  {
   "cell_type": "code",
   "execution_count": 38,
   "metadata": {
    "scrolled": true
   },
   "outputs": [],
   "source": [
    "# feature engineering\n",
    "puds = create_demo_col(puds)\n",
    "minipuds = agg_puds(puds)"
   ]
  },
  {
   "cell_type": "code",
   "execution_count": 40,
   "metadata": {},
   "outputs": [],
   "source": [
    "# set up dependent var\n",
    "outcome = 'eviction-rate'"
   ]
  },
  {
   "cell_type": "code",
   "execution_count": 41,
   "metadata": {},
   "outputs": [
    {
     "data": {
      "text/html": [
       "<table class=\"simpletable\">\n",
       "<caption>OLS Regression Results</caption>\n",
       "<tr>\n",
       "  <th>Dep. Variable:</th>      <td>eviction-rate</td>  <th>  R-squared:         </th> <td>   0.004</td>\n",
       "</tr>\n",
       "<tr>\n",
       "  <th>Model:</th>                   <td>OLS</td>       <th>  Adj. R-squared:    </th> <td>  -0.008</td>\n",
       "</tr>\n",
       "<tr>\n",
       "  <th>Method:</th>             <td>Least Squares</td>  <th>  F-statistic:       </th> <td>  0.3057</td>\n",
       "</tr>\n",
       "<tr>\n",
       "  <th>Date:</th>             <td>Fri, 29 Nov 2019</td> <th>  Prob (F-statistic):</th>  <td> 0.737</td> \n",
       "</tr>\n",
       "<tr>\n",
       "  <th>Time:</th>                 <td>10:06:46</td>     <th>  Log-Likelihood:    </th> <td> -426.06</td>\n",
       "</tr>\n",
       "<tr>\n",
       "  <th>No. Observations:</th>      <td>   173</td>      <th>  AIC:               </th> <td>   858.1</td>\n",
       "</tr>\n",
       "<tr>\n",
       "  <th>Df Residuals:</th>          <td>   170</td>      <th>  BIC:               </th> <td>   867.6</td>\n",
       "</tr>\n",
       "<tr>\n",
       "  <th>Df Model:</th>              <td>     2</td>      <th>                     </th>     <td> </td>   \n",
       "</tr>\n",
       "<tr>\n",
       "  <th>Covariance Type:</th>      <td>nonrobust</td>    <th>                     </th>     <td> </td>   \n",
       "</tr>\n",
       "</table>\n",
       "<table class=\"simpletable\">\n",
       "<tr>\n",
       "           <td></td>             <th>coef</th>     <th>std err</th>      <th>t</th>      <th>P>|t|</th>  <th>[0.025</th>    <th>0.975]</th>  \n",
       "</tr>\n",
       "<tr>\n",
       "  <th>intercept</th>          <td>    2.9346</td> <td>    0.253</td> <td>   11.581</td> <td> 0.000</td> <td>    2.434</td> <td>    3.435</td>\n",
       "</tr>\n",
       "<tr>\n",
       "  <th>pud_count</th>          <td>   -0.0680</td> <td>    0.088</td> <td>   -0.769</td> <td> 0.443</td> <td>   -0.243</td> <td>    0.107</td>\n",
       "</tr>\n",
       "<tr>\n",
       "  <th>% Affordable Units</th> <td>    0.4617</td> <td>    2.155</td> <td>    0.214</td> <td> 0.831</td> <td>   -3.791</td> <td>    4.715</td>\n",
       "</tr>\n",
       "</table>\n",
       "<table class=\"simpletable\">\n",
       "<tr>\n",
       "  <th>Omnibus:</th>       <td>36.664</td> <th>  Durbin-Watson:     </th> <td>   0.897</td>\n",
       "</tr>\n",
       "<tr>\n",
       "  <th>Prob(Omnibus):</th> <td> 0.000</td> <th>  Jarque-Bera (JB):  </th> <td>  52.111</td>\n",
       "</tr>\n",
       "<tr>\n",
       "  <th>Skew:</th>          <td> 1.258</td> <th>  Prob(JB):          </th> <td>4.83e-12</td>\n",
       "</tr>\n",
       "<tr>\n",
       "  <th>Kurtosis:</th>      <td> 3.949</td> <th>  Cond. No.          </th> <td>    32.0</td>\n",
       "</tr>\n",
       "</table><br/><br/>Warnings:<br/>[1] Standard Errors assume that the covariance matrix of the errors is correctly specified."
      ],
      "text/plain": [
       "<class 'statsmodels.iolib.summary.Summary'>\n",
       "\"\"\"\n",
       "                            OLS Regression Results                            \n",
       "==============================================================================\n",
       "Dep. Variable:          eviction-rate   R-squared:                       0.004\n",
       "Model:                            OLS   Adj. R-squared:                 -0.008\n",
       "Method:                 Least Squares   F-statistic:                    0.3057\n",
       "Date:                Fri, 29 Nov 2019   Prob (F-statistic):              0.737\n",
       "Time:                        10:06:46   Log-Likelihood:                -426.06\n",
       "No. Observations:                 173   AIC:                             858.1\n",
       "Df Residuals:                     170   BIC:                             867.6\n",
       "Df Model:                           2                                         \n",
       "Covariance Type:            nonrobust                                         \n",
       "======================================================================================\n",
       "                         coef    std err          t      P>|t|      [0.025      0.975]\n",
       "--------------------------------------------------------------------------------------\n",
       "intercept              2.9346      0.253     11.581      0.000       2.434       3.435\n",
       "pud_count             -0.0680      0.088     -0.769      0.443      -0.243       0.107\n",
       "% Affordable Units     0.4617      2.155      0.214      0.831      -3.791       4.715\n",
       "==============================================================================\n",
       "Omnibus:                       36.664   Durbin-Watson:                   0.897\n",
       "Prob(Omnibus):                  0.000   Jarque-Bera (JB):               52.111\n",
       "Skew:                           1.258   Prob(JB):                     4.83e-12\n",
       "Kurtosis:                       3.949   Cond. No.                         32.0\n",
       "==============================================================================\n",
       "\n",
       "Warnings:\n",
       "[1] Standard Errors assume that the covariance matrix of the errors is correctly specified.\n",
       "\"\"\""
      ]
     },
     "execution_count": 41,
     "metadata": {},
     "output_type": "execute_result"
    }
   ],
   "source": [
    "# can PUD features be used as a predictor for eviction rate?\n",
    "\n",
    "# set up multiple linear regression\n",
    "x_cols = ['pud_count','% Affordable Units']\n",
    "\n",
    "X = minipuds[x_cols].values\n",
    "\n",
    "y = minipuds[outcome]\n",
    "\n",
    "# fit model\n",
    "X = sm.add_constant(X)\n",
    "model = sm.OLS(y, X, hasconst=True )\n",
    "result = model.fit()\n",
    "labels = ['intercept'] + x_cols\n",
    "result.summary(xname=labels)"
   ]
  },
  {
   "cell_type": "markdown",
   "metadata": {},
   "source": [
    "Based on R-squared of 0.004, PUD features do **not** explain any of the variance in eviction-rate"
   ]
  }
 ],
 "metadata": {
  "kernelspec": {
   "display_name": "Python 3",
   "language": "python",
   "name": "python3"
  },
  "language_info": {
   "codemirror_mode": {
    "name": "ipython",
    "version": 3
   },
   "file_extension": ".py",
   "mimetype": "text/x-python",
   "name": "python",
   "nbconvert_exporter": "python",
   "pygments_lexer": "ipython3",
   "version": "3.7.3"
  }
 },
 "nbformat": 4,
 "nbformat_minor": 2
}
