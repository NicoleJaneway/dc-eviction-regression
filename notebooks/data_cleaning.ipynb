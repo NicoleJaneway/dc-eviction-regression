{
 "cells": [
  {
   "cell_type": "code",
   "execution_count": 1,
   "metadata": {},
   "outputs": [],
   "source": [
    "from shapely.geometry import Point, Polygon\n",
    "import fiona \n",
    "import geopandas as gpd\n",
    "import pandas as pd\n",
    "import matplotlib.pyplot as plt\n",
    "import seaborn as sns\n",
    "\n",
    "gpd.io.file.fiona.drvsupport.supported_drivers['KML'] = 'rw'\n",
    "pd.set_option('display.max_colwidth', -1)\n",
    "\n",
    "%run ../python_files/data_cleaning"
   ]
  },
  {
   "cell_type": "code",
   "execution_count": 2,
   "metadata": {},
   "outputs": [],
   "source": [
    "#import data\n",
    "wards = gpd.read_file(\"../data/google_maps/gis/Wards.kml\", driver='KML')\n",
    "census_tracts_gis = gpd.read_file(\"../data/open_data/gis/Census_Tracts_in_2010.kml\", driver='KML')\n",
    "puds_gis = gpd.read_file(\"../data/open_data/gis/Planned_Unit_Development_PUDs.kml\", driver='KML')\n",
    "tifs_gis = gpd.read_file(\"../data/open_data/gis/Tax_Increment_Financing_TIF_areas.kml\", driver='KML')\n",
    "evict_data = pd.read_csv(\"../data/eviction_lab/csv/tracts.csv\")\n",
    "census_tracts = pd.read_csv('../data/open_data/csv/Census_Tracts_in_2010.csv')\n",
    "puds = pd.read_csv('../data/open_data/csv/Planned_Unit_Development_PUDs.csv') \n",
    "tifs = pd.read_csv(\"../data/open_data/csv/Tax_Increment_Financing_TIF_areas.csv\")\n",
    "puds_xwalk = pd.read_csv('../data/grassroots_dc/csv/zoning_crosswalk.csv')\n",
    "puds_gr = pd.read_csv('../data/grassroots_dc/csv/PUD Data merged with public database - PUDs.csv')"
   ]
  },
  {
   "cell_type": "code",
   "execution_count": 3,
   "metadata": {},
   "outputs": [],
   "source": [
    "#make tracts\n",
    "evict16 = clean_eviction_data(evict_data)\n",
    "tracts = merge_tracts(census_tracts_gis, census_tracts)\n",
    "evict = merge_eviction_data(tracts, evict16)\n",
    "evict = add_gis_ft1(wards, evict, 'ward')"
   ]
  },
  {
   "cell_type": "code",
   "execution_count": 4,
   "metadata": {},
   "outputs": [],
   "source": [
    "#make puds\n",
    "puds = merge_gis(puds_gis, puds)\n",
    "puds_gr = clean_grassroots_pud_data(puds_gr)\n",
    "puds = add_pud_ft(puds, puds_xwalk, puds_gr)\n",
    "puds = add_gis_ft2(tracts, puds, 'GEOID')"
   ]
  },
  {
   "cell_type": "code",
   "execution_count": 6,
   "metadata": {},
   "outputs": [],
   "source": [
    "#make tifs\n",
    "tifs = merge_gis(tifs_gis, tifs)\n",
    "tifs = add_gis_ft2(tracts, tifs, 'GEOID')"
   ]
  },
  {
   "cell_type": "code",
   "execution_count": 7,
   "metadata": {},
   "outputs": [],
   "source": [
    "#make master files\n",
    "master_puds = add_dev(puds, evict)\n",
    "master_tifs = add_dev(tifs, evict)"
   ]
  }
 ],
 "metadata": {
  "kernelspec": {
   "display_name": "Python 3",
   "language": "python",
   "name": "python3"
  },
  "language_info": {
   "codemirror_mode": {
    "name": "ipython",
    "version": 3
   },
   "file_extension": ".py",
   "mimetype": "text/x-python",
   "name": "python",
   "nbconvert_exporter": "python",
   "pygments_lexer": "ipython3",
   "version": "3.7.3"
  }
 },
 "nbformat": 4,
 "nbformat_minor": 2
}
