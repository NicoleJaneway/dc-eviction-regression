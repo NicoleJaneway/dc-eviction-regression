{
 "cells": [
  {
   "cell_type": "code",
   "execution_count": 123,
   "metadata": {},
   "outputs": [
    {
     "name": "stdout",
     "output_type": "stream",
     "text": [
      "Collecting geos\n",
      "\u001b[?25l  Downloading https://files.pythonhosted.org/packages/7a/1c/a7ae7e2685719b31dbde13e90c6386f872b8ee2670d833f4211b4e3d5106/geos-0.2.2-py3-none-any.whl (368kB)\n",
      "\u001b[K     |████████████████████████████████| 368kB 2.1MB/s eta 0:00:01\n",
      "\u001b[?25hRequirement already satisfied: lxml in /Users/flatironschool/anaconda3/lib/python3.7/site-packages (from geos) (4.3.4)\n",
      "Requirement already satisfied: pillow in /Users/flatironschool/anaconda3/lib/python3.7/site-packages (from geos) (6.1.0)\n",
      "Requirement already satisfied: flask in /Users/flatironschool/anaconda3/lib/python3.7/site-packages (from geos) (1.1.1)\n",
      "Requirement already satisfied: Jinja2>=2.10.1 in /Users/flatironschool/anaconda3/lib/python3.7/site-packages (from flask->geos) (2.10.1)\n",
      "Requirement already satisfied: click>=5.1 in /Users/flatironschool/anaconda3/lib/python3.7/site-packages (from flask->geos) (7.0)\n",
      "Requirement already satisfied: Werkzeug>=0.15 in /Users/flatironschool/anaconda3/lib/python3.7/site-packages (from flask->geos) (0.15.4)\n",
      "Requirement already satisfied: itsdangerous>=0.24 in /Users/flatironschool/anaconda3/lib/python3.7/site-packages (from flask->geos) (1.1.0)\n",
      "Requirement already satisfied: MarkupSafe>=0.23 in /Users/flatironschool/anaconda3/lib/python3.7/site-packages (from Jinja2>=2.10.1->flask->geos) (1.1.1)\n",
      "Installing collected packages: geos\n",
      "Successfully installed geos-0.2.2\n"
     ]
    }
   ],
   "source": [
    "!pip install geos"
   ]
  },
  {
   "cell_type": "code",
   "execution_count": null,
   "metadata": {},
   "outputs": [],
   "source": [
    "!pip install geoplot"
   ]
  },
  {
   "cell_type": "code",
   "execution_count": 121,
   "metadata": {},
   "outputs": [
    {
     "ename": "ModuleNotFoundError",
     "evalue": "No module named 'geoplot'",
     "output_type": "error",
     "traceback": [
      "\u001b[0;31m---------------------------------------------------------------------------\u001b[0m",
      "\u001b[0;31mModuleNotFoundError\u001b[0m                       Traceback (most recent call last)",
      "\u001b[0;32m<ipython-input-121-b149eec10641>\u001b[0m in \u001b[0;36m<module>\u001b[0;34m\u001b[0m\n\u001b[1;32m      8\u001b[0m \u001b[0;32mimport\u001b[0m \u001b[0mstatsmodels\u001b[0m\u001b[0;34m.\u001b[0m\u001b[0mapi\u001b[0m \u001b[0;32mas\u001b[0m \u001b[0msm\u001b[0m\u001b[0;34m\u001b[0m\u001b[0;34m\u001b[0m\u001b[0m\n\u001b[1;32m      9\u001b[0m \u001b[0;32mfrom\u001b[0m \u001b[0msklearn\u001b[0m\u001b[0;34m.\u001b[0m\u001b[0mpreprocessing\u001b[0m \u001b[0;32mimport\u001b[0m \u001b[0mOneHotEncoder\u001b[0m\u001b[0;34m\u001b[0m\u001b[0;34m\u001b[0m\u001b[0m\n\u001b[0;32m---> 10\u001b[0;31m \u001b[0;32mimport\u001b[0m \u001b[0mgeoplot\u001b[0m\u001b[0;34m\u001b[0m\u001b[0;34m\u001b[0m\u001b[0m\n\u001b[0m\u001b[1;32m     11\u001b[0m \u001b[0;34m\u001b[0m\u001b[0m\n\u001b[1;32m     12\u001b[0m \u001b[0mpd\u001b[0m\u001b[0;34m.\u001b[0m\u001b[0mset_option\u001b[0m\u001b[0;34m(\u001b[0m\u001b[0;34m'display.max_colwidth'\u001b[0m\u001b[0;34m,\u001b[0m \u001b[0;34m-\u001b[0m\u001b[0;36m1\u001b[0m\u001b[0;34m)\u001b[0m\u001b[0;34m\u001b[0m\u001b[0;34m\u001b[0m\u001b[0m\n",
      "\u001b[0;31mModuleNotFoundError\u001b[0m: No module named 'geoplot'"
     ]
    }
   ],
   "source": [
    "from shapely.geometry import Point, Polygon\n",
    "from shapely import wkt\n",
    "import geopandas as gpd\n",
    "import pandas as pd\n",
    "import numpy as np\n",
    "import matplotlib.pyplot as plt\n",
    "import seaborn as sns\n",
    "import statsmodels.api as sm\n",
    "from sklearn.preprocessing import OneHotEncoder\n",
    "import geoplot\n",
    "\n",
    "pd.set_option('display.max_colwidth', -1)\n",
    "pd.set_option('display.max_columns', None)\n",
    "\n",
    "# sns.set_palette(\"coolwarm\", 3)\n",
    "sns.set_palette(sns.diverging_palette(10, 220, sep=80, n=3))"
   ]
  },
  {
   "cell_type": "code",
   "execution_count": 89,
   "metadata": {},
   "outputs": [],
   "source": [
    "# Show color palette and color codes\n",
    "# sns.palplot(sns.color_palette(sns.diverging_palette(10, 220, sep=80, n=3)))\n",
    "# sns.color_palette()"
   ]
  },
  {
   "cell_type": "code",
   "execution_count": 2,
   "metadata": {},
   "outputs": [],
   "source": [
    "# import data\n",
    "puds = pd.read_csv('../data/final_datasets/master_puds_blocks.csv')"
   ]
  },
  {
   "cell_type": "code",
   "execution_count": 8,
   "metadata": {},
   "outputs": [],
   "source": [
    "puds = puds[['OBJECTID_PUD', 'PUD_NAME', 'PUD_WEB_URL',\n",
    "       'PUD_CHANGE_NARRATIVE', 'PUD_ZONING', 'PUD_STATUS', 'PUD_CASE_NUMBER',\n",
    "       'SHAPEAREA', 'SHAPELEN', 'GLOBALID', 'WARD', 'Name', 'Description',\n",
    "       'geometry_ft', 'Zone_Cat', 'CASE_ID_orig', 'ADDRESS', 'PROJECT_NAME',\n",
    "       'STATUS_PUBLIC', 'AGENCY_CALCULATED', 'AFFORDABLE_UNITS_AT_0_30_AMI',\n",
    "       'AFFORDABLE_UNITS_AT_31_50_AMI', 'AFFORDABLE_UNITS_AT_51_60_AMI',\n",
    "       'AFFORDABLE_UNITS_AT_61_80_AMI', 'AFFORDABLE_UNITS_AT_81_AMI',\n",
    "       'TOTAL_AFFORDABLE_UNITS', 'MAR_WARD', 'Type', 'ANC',\n",
    "       'Total # Residential Units', '% Affordable Units',\n",
    "       'Total # of 3 bedroom+ units (Fam sized units)',\n",
    "       'Ownership (rental vs. condo or mix)',\n",
    "       'Affordability notes (What levels of AMI% are avail)', 'FULLADDRESS', 'GIS_LAST_MOD_DTTM', 'CASE_ID_update', 'GEOID','geometry_Tract', 'ward', ]]"
   ]
  },
  {
   "cell_type": "code",
   "execution_count": 11,
   "metadata": {},
   "outputs": [],
   "source": [
    "puds = puds.loc[~puds['OBJECTID_PUD'].isna()]"
   ]
  },
  {
   "cell_type": "code",
   "execution_count": 33,
   "metadata": {
    "scrolled": true
   },
   "outputs": [
    {
     "data": {
      "image/png": "[encoded data removed]",
      "text/plain": [
       "<Figure size 432x288 with 1 Axes>"
      ]
     },
     "metadata": {
      "needs_background": "light"
     },
     "output_type": "display_data"
    }
   ],
   "source": [
    "sns.countplot(x=puds.Zone_Cat);"
   ]
  },
  {
   "cell_type": "code",
   "execution_count": 59,
   "metadata": {},
   "outputs": [],
   "source": [
    "puds['% Affordable Units'] = np.where(puds['% Affordable Units'].isnull(), 0, puds['% Affordable Units'])"
   ]
  },
  {
   "cell_type": "code",
   "execution_count": 90,
   "metadata": {
    "scrolled": true
   },
   "outputs": [
    {
     "data": {
      "image/png": "[encoded data removed]",
      "text/plain": [
       "<Figure size 432x288 with 1 Axes>"
      ]
     },
     "metadata": {
      "needs_background": "light"
     },
     "output_type": "display_data"
    }
   ],
   "source": [
    "ax = sns.distplot(puds['% Affordable Units'].loc[~(puds['% Affordable Units'] == 0)],color=sns.color_palette()[-1]);\n",
    "ax.set_xlim(0,None);"
   ]
  },
  {
   "cell_type": "code",
   "execution_count": 110,
   "metadata": {},
   "outputs": [],
   "source": [
    "puds['geometry_ft'] = puds['geometry_ft'].apply(wkt.loads)"
   ]
  },
  {
   "cell_type": "code",
   "execution_count": 113,
   "metadata": {},
   "outputs": [],
   "source": [
    "puds_gis = gpd.GeoDataFrame(puds, geometry='geometry_ft')"
   ]
  },
  {
   "cell_type": "code",
   "execution_count": 119,
   "metadata": {},
   "outputs": [
    {
     "data": {
      "image/png": "[encoded data removed]",
      "text/plain": [
       "<Figure size 432x288 with 1 Axes>"
      ]
     },
     "metadata": {
      "needs_background": "light"
     },
     "output_type": "display_data"
    }
   ],
   "source": [
    "puds_gis.plot();"
   ]
  },
  {
   "cell_type": "code",
   "execution_count": 120,
   "metadata": {},
   "outputs": [
    {
     "ename": "NameError",
     "evalue": "name 'geoplot' is not defined",
     "output_type": "error",
     "traceback": [
      "\u001b[0;31m---------------------------------------------------------------------------\u001b[0m",
      "\u001b[0;31mNameError\u001b[0m                                 Traceback (most recent call last)",
      "\u001b[0;32m<ipython-input-120-d2abd5f462b6>\u001b[0m in \u001b[0;36m<module>\u001b[0;34m\u001b[0m\n\u001b[0;32m----> 1\u001b[0;31m geoplot.choropleth(\n\u001b[0m\u001b[1;32m      2\u001b[0m     puds_gis)\n\u001b[1;32m      3\u001b[0m \u001b[0;34m\u001b[0m\u001b[0m\n\u001b[1;32m      4\u001b[0m \u001b[0;31m# , hue=world['gdp_md_est'] / world['pop_est'],\u001b[0m\u001b[0;34m\u001b[0m\u001b[0;34m\u001b[0m\u001b[0;34m\u001b[0m\u001b[0m\n\u001b[1;32m      5\u001b[0m \u001b[0;31m#     cmap='Greens', figsize=(8, 4)\u001b[0m\u001b[0;34m\u001b[0m\u001b[0;34m\u001b[0m\u001b[0;34m\u001b[0m\u001b[0m\n",
      "\u001b[0;31mNameError\u001b[0m: name 'geoplot' is not defined"
     ]
    }
   ],
   "source": [
    "geoplot.choropleth(\n",
    "    puds_gis, hue=puds.Zone_Cat)\n",
    "\n",
    "# , hue=world['gdp_md_est'] / world['pop_est'],\n",
    "#     cmap='Greens', figsize=(8, 4)\n",
    "# )\n"
   ]
  }
 ],
 "metadata": {
  "kernelspec": {
   "display_name": "Python 3",
   "language": "python",
   "name": "python3"
  },
  "language_info": {
   "codemirror_mode": {
    "name": "ipython",
    "version": 3
   },
   "file_extension": ".py",
   "mimetype": "text/x-python",
   "name": "python",
   "nbconvert_exporter": "python",
   "pygments_lexer": "ipython3",
   "version": "3.7.3"
  }
 },
 "nbformat": 4,
 "nbformat_minor": 2
}
