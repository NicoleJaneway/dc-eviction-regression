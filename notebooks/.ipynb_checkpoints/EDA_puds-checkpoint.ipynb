{
 "cells": [
  {
   "cell_type": "code",
   "execution_count": null,
   "metadata": {},
   "outputs": [],
   "source": [
    "from shapely.geometry import Point, Polygon\n",
    "from shapely import wkt\n",
    "import geopandas as gpd\n",
    "import pandas as pd\n",
    "import numpy as np\n",
    "import matplotlib.pyplot as plt\n",
    "import seaborn as sns\n",
    "import statsmodels.api as sm\n",
    "from sklearn.preprocessing import OneHotEncoder\n",
    "import geoplot\n",
    "\n",
    "pd.set_option('display.max_colwidth', -1)\n",
    "pd.set_option('display.max_columns', None)\n",
    "\n",
    "# sns.set_palette(\"coolwarm\", 3)\n",
    "# sns.set_palette(sns.diverging_palette(10, 220, sep=80, n=3, center=\"dark\"))\n",
    "\n",
    "sns.set_context('talk')"
   ]
  },
  {
   "cell_type": "code",
   "execution_count": null,
   "metadata": {},
   "outputs": [],
   "source": [
    "# Show color palette and color codes\n",
    "# sns.palplot(sns.color_palette(sns.diverging_palette(10, 220, sep=80, n=3)))\n",
    "# sns.color_palette()"
   ]
  },
  {
   "cell_type": "code",
   "execution_count": null,
   "metadata": {},
   "outputs": [],
   "source": [
    "# import data\n",
    "puds = pd.read_csv('../data/final_datasets/master_puds_blocks.csv')"
   ]
  },
  {
   "cell_type": "code",
   "execution_count": null,
   "metadata": {},
   "outputs": [],
   "source": [
    "puds = puds[['OBJECTID_PUD', 'PUD_NAME', 'PUD_WEB_URL',\n",
    "       'PUD_CHANGE_NARRATIVE', 'PUD_ZONING', 'PUD_STATUS', 'PUD_CASE_NUMBER',\n",
    "       'SHAPEAREA', 'SHAPELEN', 'GLOBALID', 'WARD', 'Name', 'Description',\n",
    "       'geometry_ft', 'Zone_Cat', 'CASE_ID_orig', 'ADDRESS', 'PROJECT_NAME',\n",
    "       'STATUS_PUBLIC', 'AGENCY_CALCULATED', 'AFFORDABLE_UNITS_AT_0_30_AMI',\n",
    "       'AFFORDABLE_UNITS_AT_31_50_AMI', 'AFFORDABLE_UNITS_AT_51_60_AMI',\n",
    "       'AFFORDABLE_UNITS_AT_61_80_AMI', 'AFFORDABLE_UNITS_AT_81_AMI',\n",
    "       'TOTAL_AFFORDABLE_UNITS', 'MAR_WARD', 'Type', 'ANC',\n",
    "       'Total # Residential Units', '% Affordable Units',\n",
    "       'Total # of 3 bedroom+ units (Fam sized units)',\n",
    "       'Ownership (rental vs. condo or mix)',\n",
    "       'Affordability notes (What levels of AMI% are avail)', 'FULLADDRESS', 'GIS_LAST_MOD_DTTM', 'CASE_ID_update', 'GEOID','geometry_Tract', 'ward', ]]"
   ]
  },
  {
   "cell_type": "code",
   "execution_count": null,
   "metadata": {},
   "outputs": [],
   "source": [
    "puds = puds.loc[~puds['OBJECTID_PUD'].isna()]"
   ]
  },
  {
   "cell_type": "code",
   "execution_count": null,
   "metadata": {
    "scrolled": true
   },
   "outputs": [],
   "source": [
    "plt.figure(figsize=(8,3))\n",
    "ax = sns.countplot(x=puds.Zone_Cat,palette=sns.diverging_palette(10, 220, sep=80, n=3, center=\"dark\"));\n",
    "ax.set_title('Count by PUD Zoning Category');\n",
    "ax.set_xlabel(\"\");\n",
    "ax.set_ylabel('Count of PUDs', size=14);"
   ]
  },
  {
   "cell_type": "code",
   "execution_count": null,
   "metadata": {},
   "outputs": [],
   "source": [
    "plt.figure(figsize=(8,4))\n",
    "ax = sns.countplot(x=puds.Zone_Cat,palette=sns.diverging_palette(10, 220, sep=80, n=3, center=\"dark\"));\n",
    "ax.set_title('Count by PUD Zoning Category');\n",
    "ax.set_xlabel(\"\");\n",
    "ax.set_ylabel('Count of PUDs', size=14);"
   ]
  },
  {
   "cell_type": "code",
   "execution_count": null,
   "metadata": {},
   "outputs": [],
   "source": [
    "puds.Zone_Cat.count()"
   ]
  },
  {
   "cell_type": "code",
   "execution_count": null,
   "metadata": {},
   "outputs": [],
   "source": [
    "puds['% Affordable Units'] = np.where(puds['% Affordable Units'].isnull(), 0, puds['% Affordable Units'])"
   ]
  },
  {
   "cell_type": "code",
   "execution_count": null,
   "metadata": {},
   "outputs": [],
   "source": [
    "puds_g = puds.loc[~puds['Total # Residential Units'].isnull()][['OBJECTID_PUD', 'PUD_NAME', 'PUD_WEB_URL', 'PUD_CHANGE_NARRATIVE',\n",
    "       'PUD_ZONING', 'PUD_STATUS', 'PUD_CASE_NUMBER', 'SHAPEAREA', 'SHAPELEN',\n",
    "       'GLOBALID', 'WARD', 'Name', 'Description', 'Zone_Cat',\n",
    "       'CASE_ID_orig', 'ADDRESS', 'PROJECT_NAME', 'STATUS_PUBLIC',\n",
    "       'AGENCY_CALCULATED', 'AFFORDABLE_UNITS_AT_0_30_AMI',\n",
    "       'AFFORDABLE_UNITS_AT_31_50_AMI', 'AFFORDABLE_UNITS_AT_51_60_AMI',\n",
    "       'AFFORDABLE_UNITS_AT_61_80_AMI', 'AFFORDABLE_UNITS_AT_81_AMI',\n",
    "       'TOTAL_AFFORDABLE_UNITS', 'MAR_WARD', 'Type', 'ANC',\n",
    "       'Total # Residential Units', '% Affordable Units',\n",
    "       'Total # of 3 bedroom+ units (Fam sized units)',\n",
    "       'Ownership (rental vs. condo or mix)',\n",
    "       'Affordability notes (What levels of AMI% are avail)', 'FULLADDRESS',\n",
    "       'GIS_LAST_MOD_DTTM', 'CASE_ID_update', 'GEOID', 'ward']]"
   ]
  },
  {
   "cell_type": "code",
   "execution_count": null,
   "metadata": {
    "scrolled": true
   },
   "outputs": [],
   "source": [
    "plt.figure(figsize=(8,3))\n",
    "ax = sns.distplot(puds['% Affordable Units'].loc[(puds['Zone_Cat'] == 'Residential')], hist=True, kde=False, color=sns.color_palette()[2], hist_kws={'alpha':1});\n",
    "ax.set_xlim(0,None);\n",
    "ax.set_title('Affordable Units as % of Residential Units');\n",
    "ax.set_ylabel('Count of PUDs');"
   ]
  },
  {
   "cell_type": "code",
   "execution_count": null,
   "metadata": {
    "scrolled": true
   },
   "outputs": [],
   "source": [
    "plt.figure(figsize=(8,3))\n",
    "ax = sns.distplot(puds_g['% Affordable Units'], hist=True, kde=False, color=sns.color_palette()[2], hist_kws={'alpha':1});\n",
    "ax.set_xlim(0,None);\n",
    "ax.set_title('Affordable Units as % of Residential Units');\n",
    "ax.set_ylabel('Count of PUDs');"
   ]
  },
  {
   "cell_type": "code",
   "execution_count": null,
   "metadata": {},
   "outputs": [],
   "source": [
    "plt.figure(figsize=(8,3))\n",
    "ax = sns.distplot(puds_g['% Affordable Units'], hist=True, kde=False, bins=[0, .000001, .5, 1], color=sns.color_palette()[2], hist_kws={'alpha':1});\n",
    "ax.set_xlim(0,None);\n",
    "ax.set_title('Affordable Units as % of Residential Units');\n",
    "ax.set_ylabel('Count of PUDs');"
   ]
  },
  {
   "cell_type": "code",
   "execution_count": null,
   "metadata": {
    "scrolled": false
   },
   "outputs": [],
   "source": [
    "viz0 = pd.DataFrame(pd.concat([puds_g['% Affordable Units'], pd.cut(puds_g['% Affordable Units'], bins=[-.01,0, 0.25, .5, .75, 1])], axis=1))\n",
    "viz0.columns = ['% Affordable Units', 'bin0']\n",
    "viz0.head(1)"
   ]
  },
  {
   "cell_type": "code",
   "execution_count": null,
   "metadata": {},
   "outputs": [],
   "source": [
    "viz0.bin0.value_counts()"
   ]
  },
  {
   "cell_type": "code",
   "execution_count": null,
   "metadata": {},
   "outputs": [],
   "source": [
    "renaming1 = {'(-0.01, 0.0]': '0%',\n",
    "'(0.0, 0.25]': '0-25%',\n",
    " '(0.25, 0.5]':'25-50%',\n",
    " '(0.5, 0.75]':'50-75%',\n",
    " '(0.75, 1.0]':'75-100%'}"
   ]
  },
  {
   "cell_type": "code",
   "execution_count": null,
   "metadata": {},
   "outputs": [],
   "source": [
    "viz0['bin1'] = viz0.bin0.astype(str).map(renaming1)\n",
    "viz0.head(1)"
   ]
  },
  {
   "cell_type": "code",
   "execution_count": null,
   "metadata": {},
   "outputs": [],
   "source": [
    "plt.figure(figsize=(8,3))\n",
    "ax = sns.countplot(viz0['bin1'], order=renaming0.values(), palette=\"coolwarm_r\")\n",
    "ax.set_ylabel('Count of PUDs');\n",
    "ax.set_xlabel('Affordable Units as % of Total');\n",
    "ax.set_title('Affordable Units');\n",
    "#palette=sns.diverging_palette(10, 220, sep=80, n=5)"
   ]
  },
  {
   "cell_type": "code",
   "execution_count": null,
   "metadata": {},
   "outputs": [],
   "source": [
    "renaming2 = {'(-0.01, 0.0]': '0%',\n",
    "'(0.0, 0.25]': '0-25%',\n",
    " '(0.25, 0.5]':'25-100%',\n",
    " '(0.5, 0.75]':'25-100%',\n",
    " '(0.75, 1.0]':'25-100%'}"
   ]
  },
  {
   "cell_type": "code",
   "execution_count": null,
   "metadata": {},
   "outputs": [],
   "source": [
    "viz0['bin2'] = viz0.bin0.astype(str).map(renaming2)\n",
    "viz0.info()"
   ]
  },
  {
   "cell_type": "code",
   "execution_count": null,
   "metadata": {},
   "outputs": [],
   "source": [
    "plt.figure(figsize=(8,4))\n",
    "ax = sns.countplot(viz0['bin2'], order=['0%','0-25%','25-100%'], palette=\"coolwarm_r\")\n",
    "ax.set_ylabel('Count of PUDs', size=14);\n",
    "ax.set_xlabel('');\n",
    "ax.set_title('Affordable Units out of Total Units');\n",
    "plt.xticks(size=20)\n"
   ]
  },
  {
   "cell_type": "code",
   "execution_count": null,
   "metadata": {},
   "outputs": [],
   "source": [
    "plt.figure(figsize=(8,3))\n",
    "ax = sns.countplot(viz0['bin2'], order=['0%','0-25%','25-100%'], palette=sns.diverging_palette(10, 220, sep=80, n=3, center='dark'))\n",
    "ax.set_ylabel('Count of PUDs');\n",
    "ax.set_xlabel('');\n",
    "ax.set_title('Affordable Units out of Total Units');"
   ]
  },
  {
   "cell_type": "code",
   "execution_count": null,
   "metadata": {},
   "outputs": [],
   "source": [
    "puds['geometry_ft'] = puds['geometry_ft'].apply(wkt.loads)"
   ]
  },
  {
   "cell_type": "code",
   "execution_count": null,
   "metadata": {},
   "outputs": [],
   "source": [
    "puds_gis = gpd.GeoDataFrame(puds, geometry='geometry_ft')"
   ]
  },
  {
   "cell_type": "code",
   "execution_count": null,
   "metadata": {},
   "outputs": [],
   "source": [
    "puds_gis.plot();"
   ]
  },
  {
   "cell_type": "code",
   "execution_count": 1,
   "metadata": {},
   "outputs": [
    {
     "ename": "NameError",
     "evalue": "name 'geoplot' is not defined",
     "output_type": "error",
     "traceback": [
      "\u001b[0;31m---------------------------------------------------------------------------\u001b[0m",
      "\u001b[0;31mNameError\u001b[0m                                 Traceback (most recent call last)",
      "\u001b[0;32m<ipython-input-1-b8525b122d37>\u001b[0m in \u001b[0;36m<module>\u001b[0;34m\u001b[0m\n\u001b[0;32m----> 1\u001b[0;31m \u001b[0max\u001b[0m \u001b[0;34m=\u001b[0m \u001b[0mgeoplot\u001b[0m\u001b[0;34m.\u001b[0m\u001b[0mchoropleth\u001b[0m\u001b[0;34m(\u001b[0m\u001b[0mpuds_gis\u001b[0m\u001b[0;34m,\u001b[0m \u001b[0mhue\u001b[0m\u001b[0;34m=\u001b[0m\u001b[0mpuds\u001b[0m\u001b[0;34m.\u001b[0m\u001b[0mZone_Cat\u001b[0m\u001b[0;34m,\u001b[0m \u001b[0mlinewidth\u001b[0m\u001b[0;34m=\u001b[0m\u001b[0;36m0\u001b[0m\u001b[0;34m,\u001b[0m \u001b[0mlegend\u001b[0m\u001b[0;34m=\u001b[0m\u001b[0;32mTrue\u001b[0m\u001b[0;34m,\u001b[0m \u001b[0mcmap\u001b[0m\u001b[0;34m=\u001b[0m\u001b[0;34m'RdBu'\u001b[0m\u001b[0;34m)\u001b[0m\u001b[0;34m\u001b[0m\u001b[0;34m\u001b[0m\u001b[0m\n\u001b[0m",
      "\u001b[0;31mNameError\u001b[0m: name 'geoplot' is not defined"
     ]
    }
   ],
   "source": [
    "ax = geoplot.choropleth(puds_gis, hue=puds.Zone_Cat, linewidth=0, legend=True, cmap='RdBu')"
   ]
  },
  {
   "cell_type": "code",
   "execution_count": null,
   "metadata": {},
   "outputs": [],
   "source": []
  }
 ],
 "metadata": {
  "kernelspec": {
   "display_name": "Python 3",
   "language": "python",
   "name": "python3"
  },
  "language_info": {
   "codemirror_mode": {
    "name": "ipython",
    "version": 3
   },
   "file_extension": ".py",
   "mimetype": "text/x-python",
   "name": "python",
   "nbconvert_exporter": "python",
   "pygments_lexer": "ipython3",
   "version": "3.7.3"
  }
 },
 "nbformat": 4,
 "nbformat_minor": 2
}
