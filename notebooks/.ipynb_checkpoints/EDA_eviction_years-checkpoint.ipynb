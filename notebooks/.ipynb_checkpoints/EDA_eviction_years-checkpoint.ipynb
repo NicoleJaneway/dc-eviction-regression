{
 "cells": [
  {
   "cell_type": "code",
   "execution_count": 65,
   "metadata": {},
   "outputs": [],
   "source": [
    "from shapely.geometry import Point, Polygon\n",
    "import geopandas as gpd\n",
    "import pandas as pd\n",
    "import numpy as np\n",
    "import matplotlib.pyplot as plt\n",
    "import seaborn as sns\n",
    "import statsmodels.api as sm\n",
    "from sklearn.preprocessing import OneHotEncoder\n",
    "from scipy import stats\n",
    "\n",
    "pd.set_option('display.max_colwidth', -1)\n",
    "pd.set_option('display.max_columns', None)\n",
    "\n",
    "# sns.set_palette(\"coolwarm\", 3)\n",
    "# sns.set_palette(sns.diverging_palette(10, 220, sep=80, n=8))"
   ]
  },
  {
   "cell_type": "code",
   "execution_count": 4,
   "metadata": {},
   "outputs": [],
   "source": [
    "# import data\n",
    "evict = pd.read_csv('../data/eviction_lab/csv/block-groups.csv')"
   ]
  },
  {
   "cell_type": "code",
   "execution_count": 8,
   "metadata": {},
   "outputs": [
    {
     "data": {
      "text/plain": [
       "2015    450\n",
       "2009    450\n",
       "2004    450\n",
       "2008    450\n",
       "2012    450\n",
       "2016    450\n",
       "2001    450\n",
       "2005    450\n",
       "2013    450\n",
       "2011    450\n",
       "2002    450\n",
       "2006    450\n",
       "2010    450\n",
       "2014    450\n",
       "2003    450\n",
       "2007    450\n",
       "2000    450\n",
       "Name: year, dtype: int64"
      ]
     },
     "execution_count": 8,
     "metadata": {},
     "output_type": "execute_result"
    }
   ],
   "source": [
    "evict.year.value_counts()"
   ]
  },
  {
   "cell_type": "code",
   "execution_count": 33,
   "metadata": {},
   "outputs": [],
   "source": [
    "active_years = [2016, 2012, 2011, 2010, 2009, 2008, 2007, 2006]"
   ]
  },
  {
   "cell_type": "code",
   "execution_count": 97,
   "metadata": {
    "scrolled": true
   },
   "outputs": [
    {
     "data": {
      "text/plain": [
       "6460   NaN\n",
       "4318   NaN\n",
       "1326   NaN\n",
       "3179   NaN\n",
       "3451   NaN\n",
       "3281   NaN\n",
       "7548   NaN\n",
       "4369   NaN\n",
       "6630   NaN\n",
       "1683   NaN\n",
       "Name: eviction-rate, dtype: float64"
      ]
     },
     "execution_count": 97,
     "metadata": {},
     "output_type": "execute_result"
    }
   ],
   "source": [
    "#test\n",
    "evict['eviction-rate'].loc[evict['year'] == 2000].sample(10)"
   ]
  },
  {
   "cell_type": "code",
   "execution_count": 96,
   "metadata": {},
   "outputs": [
    {
     "name": "stdout",
     "output_type": "stream",
     "text": [
      "2016 mean: 2.57\n",
      "2012 mean: 0.92\n",
      "2011 mean: 0.91\n",
      "2010 mean: 1.0\n",
      "2009 mean: 1.02\n",
      "2008 mean: 0.97\n",
      "2007 mean: 0.68\n",
      "2006 mean: 0.92\n",
      "\n",
      "\n",
      "2016 std: 3.28\n",
      "2012 std: 1.45\n",
      "2011 std: 1.36\n",
      "2010 std: 1.57\n",
      "2009 std: 1.45\n",
      "2008 std: 1.34\n",
      "2007 std: 0.94\n",
      "2006 std: 1.39\n"
     ]
    }
   ],
   "source": [
    "for year in active_years:\n",
    "    print(f'{year} mean:', float(str(round(evict['eviction-rate'].loc[evict['year'] == year].mean(),2))))\n",
    "print('\\n')\n",
    "for year in active_years:\n",
    "    print(f'{year} std:', float(str(round(evict['eviction-rate'].loc[evict['year'] == year].std(),2))))\n",
    "    "
   ]
  },
  {
   "cell_type": "markdown",
   "metadata": {},
   "source": [
    "null hypothesis of t-test is that 2 independent samples have identical average (expected) values\n",
    "\n",
    "p < alpha => reject the null hypothesis"
   ]
  },
  {
   "cell_type": "code",
   "execution_count": 74,
   "metadata": {
    "scrolled": true
   },
   "outputs": [
    {
     "data": {
      "text/plain": [
       "Ttest_indResult(statistic=9.748796966485191, pvalue=5.5124926579577216e-21)"
      ]
     },
     "execution_count": 74,
     "metadata": {},
     "output_type": "execute_result"
    }
   ],
   "source": [
    "stats.ttest_ind(evict['eviction-rate'].loc[evict['year'] == 2016], \n",
    "               evict['eviction-rate'].loc[evict['year'] == 2012], equal_var=False)"
   ]
  },
  {
   "cell_type": "code",
   "execution_count": 40,
   "metadata": {
    "scrolled": true
   },
   "outputs": [
    {
     "data": {
      "text/plain": [
       "F_onewayResult(statistic=53.34968222285293, pvalue=8.074241633277001e-73)"
      ]
     },
     "execution_count": 40,
     "metadata": {},
     "output_type": "execute_result"
    }
   ],
   "source": [
    "stats.f_oneway(evict['eviction-rate'].loc[evict['year'] == 2016], \n",
    "               evict['eviction-rate'].loc[evict['year'] == 2012],\n",
    "               evict['eviction-rate'].loc[evict['year'] == 2011],\n",
    "               evict['eviction-rate'].loc[evict['year'] == 2010],\n",
    "               evict['eviction-rate'].loc[evict['year'] == 2009],\n",
    "               evict['eviction-rate'].loc[evict['year'] == 2008],\n",
    "               evict['eviction-rate'].loc[evict['year'] == 2007],\n",
    "               evict['eviction-rate'].loc[evict['year'] == 2006])"
   ]
  },
  {
   "cell_type": "code",
   "execution_count": 113,
   "metadata": {},
   "outputs": [
    {
     "data": {
      "image/png": "[encoded data removed]",
      "text/plain": [
       "<Figure size 432x288 with 1 Axes>"
      ]
     },
     "metadata": {
      "needs_background": "light"
     },
     "output_type": "display_data"
    }
   ],
   "source": [
    "sns.set_palette(sns.color_palette(\"Blues_r\", 8,))\n",
    "\n",
    "ax = sns.kdeplot(evict['eviction-rate'].loc[evict['year'] == 2016], color='red');\n",
    "sns.kdeplot(evict['eviction-rate'].loc[evict['year'] == 2012]);\n",
    "sns.kdeplot(evict['eviction-rate'].loc[evict['year'] == 2011]);\n",
    "sns.kdeplot(evict['eviction-rate'].loc[evict['year'] == 2010]);\n",
    "sns.kdeplot(evict['eviction-rate'].loc[evict['year'] == 2009]);\n",
    "sns.kdeplot(evict['eviction-rate'].loc[evict['year'] == 2008]);\n",
    "sns.kdeplot(evict['eviction-rate'].loc[evict['year'] == 2007]);\n",
    "sns.kdeplot(evict['eviction-rate'].loc[evict['year'] == 2006]);\n",
    "ax.set(xlim=(0, 15));\n",
    "plt.legend(labels = [2016, 2012, 2011, 2010, 2009, 2008, 2007, 2006]);"
   ]
  }
 ],
 "metadata": {
  "kernelspec": {
   "display_name": "Python 3",
   "language": "python",
   "name": "python3"
  },
  "language_info": {
   "codemirror_mode": {
    "name": "ipython",
    "version": 3
   },
   "file_extension": ".py",
   "mimetype": "text/x-python",
   "name": "python",
   "nbconvert_exporter": "python",
   "pygments_lexer": "ipython3",
   "version": "3.7.3"
  }
 },
 "nbformat": 4,
 "nbformat_minor": 2
}
